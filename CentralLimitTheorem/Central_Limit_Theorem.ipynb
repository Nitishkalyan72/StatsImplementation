{
  "nbformat": 4,
  "nbformat_minor": 0,
  "metadata": {
    "colab": {
      "provenance": []
    },
    "kernelspec": {
      "name": "python3",
      "display_name": "Python 3"
    },
    "language_info": {
      "name": "python"
    }
  },
  "cells": [
    {
      "cell_type": "code",
      "execution_count": 17,
      "metadata": {
        "id": "POK7m4Hyl91G"
      },
      "outputs": [],
      "source": [
        "import pandas as pd\n",
        "import numpy as np\n",
        "import matplotlib.pyplot as plt\n",
        "import seaborn as sns"
      ]
    },
    {
      "cell_type": "code",
      "source": [
        "data = pd.read_excel('/content/fraud_data_lyst1751134022071.xlsx')\n",
        "data.head()"
      ],
      "metadata": {
        "colab": {
          "base_uri": "https://localhost:8080/",
          "height": 399
        },
        "id": "u9yy1iL1mSdD",
        "outputId": "8ebfcde5-ee41-41d5-c85c-707a7b2f6e82"
      },
      "execution_count": 18,
      "outputs": [
        {
          "output_type": "execute_result",
          "data": {
            "text/plain": [
              "  trans_date_trans_time                          merchant        category  \\\n",
              "0   2019-04-01 00:58:00  \"Stokes, Christiansen and Sipes\"     grocery_net   \n",
              "1   2019-04-01 15:06:00                      Predovic Inc    shopping_net   \n",
              "2   2019-04-01 22:37:00                   Wisozk and Sons        misc_pos   \n",
              "3   2019-04-01 23:06:00                    Murray-Smitham     grocery_pos   \n",
              "4   2019-04-01 23:59:00                        Friesen Lt  health_fitness   \n",
              "\n",
              "      amt   city state      lat      long  city_pop  \\\n",
              "0   14.37  Wales    AK  64.7556 -165.6723       145   \n",
              "1  966.11  Wales    AK  64.7556 -165.6723       145   \n",
              "2   49.61  Wales    AK  64.7556 -165.6723       145   \n",
              "3  295.26  Wales    AK  64.7556 -165.6723       145   \n",
              "4   18.17  Wales    AK  64.7556 -165.6723       145   \n",
              "\n",
              "                          job                  dob  \\\n",
              "0  \"Administrator, education\"  1939-09-11 00:00:00   \n",
              "1  \"Administrator, education\"  1939-09-11 00:00:00   \n",
              "2  \"Administrator, education\"  1939-09-11 00:00:00   \n",
              "3  \"Administrator, education\"  1939-09-11 00:00:00   \n",
              "4  \"Administrator, education\"  1939-09-11 00:00:00   \n",
              "\n",
              "                          trans_num  merch_lat  merch_long is_fraud  \n",
              "0  a3806e984cec6ac0096d8184c64ad3a1  65.654142 -164.722603        1  \n",
              "1  a59185fe1b9ccf21323f581d7477573f  65.468863 -165.473127        1  \n",
              "2  86ba3a888b42cd3925881fa34177b4e0  65.347667 -165.914542        1  \n",
              "3  3a068fe1d856f0ecedbed33e4b5f4496  64.445035 -166.080207        1  \n",
              "4  891cdd1191028759dc20dc224347a0ff  65.447094 -165.446843        1  "
            ],
            "text/html": [
              "\n",
              "  <div id=\"df-9de01829-e6b4-4e25-af34-9d5ce47393db\" class=\"colab-df-container\">\n",
              "    <div>\n",
              "<style scoped>\n",
              "    .dataframe tbody tr th:only-of-type {\n",
              "        vertical-align: middle;\n",
              "    }\n",
              "\n",
              "    .dataframe tbody tr th {\n",
              "        vertical-align: top;\n",
              "    }\n",
              "\n",
              "    .dataframe thead th {\n",
              "        text-align: right;\n",
              "    }\n",
              "</style>\n",
              "<table border=\"1\" class=\"dataframe\">\n",
              "  <thead>\n",
              "    <tr style=\"text-align: right;\">\n",
              "      <th></th>\n",
              "      <th>trans_date_trans_time</th>\n",
              "      <th>merchant</th>\n",
              "      <th>category</th>\n",
              "      <th>amt</th>\n",
              "      <th>city</th>\n",
              "      <th>state</th>\n",
              "      <th>lat</th>\n",
              "      <th>long</th>\n",
              "      <th>city_pop</th>\n",
              "      <th>job</th>\n",
              "      <th>dob</th>\n",
              "      <th>trans_num</th>\n",
              "      <th>merch_lat</th>\n",
              "      <th>merch_long</th>\n",
              "      <th>is_fraud</th>\n",
              "    </tr>\n",
              "  </thead>\n",
              "  <tbody>\n",
              "    <tr>\n",
              "      <th>0</th>\n",
              "      <td>2019-04-01 00:58:00</td>\n",
              "      <td>\"Stokes, Christiansen and Sipes\"</td>\n",
              "      <td>grocery_net</td>\n",
              "      <td>14.37</td>\n",
              "      <td>Wales</td>\n",
              "      <td>AK</td>\n",
              "      <td>64.7556</td>\n",
              "      <td>-165.6723</td>\n",
              "      <td>145</td>\n",
              "      <td>\"Administrator, education\"</td>\n",
              "      <td>1939-09-11 00:00:00</td>\n",
              "      <td>a3806e984cec6ac0096d8184c64ad3a1</td>\n",
              "      <td>65.654142</td>\n",
              "      <td>-164.722603</td>\n",
              "      <td>1</td>\n",
              "    </tr>\n",
              "    <tr>\n",
              "      <th>1</th>\n",
              "      <td>2019-04-01 15:06:00</td>\n",
              "      <td>Predovic Inc</td>\n",
              "      <td>shopping_net</td>\n",
              "      <td>966.11</td>\n",
              "      <td>Wales</td>\n",
              "      <td>AK</td>\n",
              "      <td>64.7556</td>\n",
              "      <td>-165.6723</td>\n",
              "      <td>145</td>\n",
              "      <td>\"Administrator, education\"</td>\n",
              "      <td>1939-09-11 00:00:00</td>\n",
              "      <td>a59185fe1b9ccf21323f581d7477573f</td>\n",
              "      <td>65.468863</td>\n",
              "      <td>-165.473127</td>\n",
              "      <td>1</td>\n",
              "    </tr>\n",
              "    <tr>\n",
              "      <th>2</th>\n",
              "      <td>2019-04-01 22:37:00</td>\n",
              "      <td>Wisozk and Sons</td>\n",
              "      <td>misc_pos</td>\n",
              "      <td>49.61</td>\n",
              "      <td>Wales</td>\n",
              "      <td>AK</td>\n",
              "      <td>64.7556</td>\n",
              "      <td>-165.6723</td>\n",
              "      <td>145</td>\n",
              "      <td>\"Administrator, education\"</td>\n",
              "      <td>1939-09-11 00:00:00</td>\n",
              "      <td>86ba3a888b42cd3925881fa34177b4e0</td>\n",
              "      <td>65.347667</td>\n",
              "      <td>-165.914542</td>\n",
              "      <td>1</td>\n",
              "    </tr>\n",
              "    <tr>\n",
              "      <th>3</th>\n",
              "      <td>2019-04-01 23:06:00</td>\n",
              "      <td>Murray-Smitham</td>\n",
              "      <td>grocery_pos</td>\n",
              "      <td>295.26</td>\n",
              "      <td>Wales</td>\n",
              "      <td>AK</td>\n",
              "      <td>64.7556</td>\n",
              "      <td>-165.6723</td>\n",
              "      <td>145</td>\n",
              "      <td>\"Administrator, education\"</td>\n",
              "      <td>1939-09-11 00:00:00</td>\n",
              "      <td>3a068fe1d856f0ecedbed33e4b5f4496</td>\n",
              "      <td>64.445035</td>\n",
              "      <td>-166.080207</td>\n",
              "      <td>1</td>\n",
              "    </tr>\n",
              "    <tr>\n",
              "      <th>4</th>\n",
              "      <td>2019-04-01 23:59:00</td>\n",
              "      <td>Friesen Lt</td>\n",
              "      <td>health_fitness</td>\n",
              "      <td>18.17</td>\n",
              "      <td>Wales</td>\n",
              "      <td>AK</td>\n",
              "      <td>64.7556</td>\n",
              "      <td>-165.6723</td>\n",
              "      <td>145</td>\n",
              "      <td>\"Administrator, education\"</td>\n",
              "      <td>1939-09-11 00:00:00</td>\n",
              "      <td>891cdd1191028759dc20dc224347a0ff</td>\n",
              "      <td>65.447094</td>\n",
              "      <td>-165.446843</td>\n",
              "      <td>1</td>\n",
              "    </tr>\n",
              "  </tbody>\n",
              "</table>\n",
              "</div>\n",
              "    <div class=\"colab-df-buttons\">\n",
              "\n",
              "  <div class=\"colab-df-container\">\n",
              "    <button class=\"colab-df-convert\" onclick=\"convertToInteractive('df-9de01829-e6b4-4e25-af34-9d5ce47393db')\"\n",
              "            title=\"Convert this dataframe to an interactive table.\"\n",
              "            style=\"display:none;\">\n",
              "\n",
              "  <svg xmlns=\"http://www.w3.org/2000/svg\" height=\"24px\" viewBox=\"0 -960 960 960\">\n",
              "    <path d=\"M120-120v-720h720v720H120Zm60-500h600v-160H180v160Zm220 220h160v-160H400v160Zm0 220h160v-160H400v160ZM180-400h160v-160H180v160Zm440 0h160v-160H620v160ZM180-180h160v-160H180v160Zm440 0h160v-160H620v160Z\"/>\n",
              "  </svg>\n",
              "    </button>\n",
              "\n",
              "  <style>\n",
              "    .colab-df-container {\n",
              "      display:flex;\n",
              "      gap: 12px;\n",
              "    }\n",
              "\n",
              "    .colab-df-convert {\n",
              "      background-color: #E8F0FE;\n",
              "      border: none;\n",
              "      border-radius: 50%;\n",
              "      cursor: pointer;\n",
              "      display: none;\n",
              "      fill: #1967D2;\n",
              "      height: 32px;\n",
              "      padding: 0 0 0 0;\n",
              "      width: 32px;\n",
              "    }\n",
              "\n",
              "    .colab-df-convert:hover {\n",
              "      background-color: #E2EBFA;\n",
              "      box-shadow: 0px 1px 2px rgba(60, 64, 67, 0.3), 0px 1px 3px 1px rgba(60, 64, 67, 0.15);\n",
              "      fill: #174EA6;\n",
              "    }\n",
              "\n",
              "    .colab-df-buttons div {\n",
              "      margin-bottom: 4px;\n",
              "    }\n",
              "\n",
              "    [theme=dark] .colab-df-convert {\n",
              "      background-color: #3B4455;\n",
              "      fill: #D2E3FC;\n",
              "    }\n",
              "\n",
              "    [theme=dark] .colab-df-convert:hover {\n",
              "      background-color: #434B5C;\n",
              "      box-shadow: 0px 1px 3px 1px rgba(0, 0, 0, 0.15);\n",
              "      filter: drop-shadow(0px 1px 2px rgba(0, 0, 0, 0.3));\n",
              "      fill: #FFFFFF;\n",
              "    }\n",
              "  </style>\n",
              "\n",
              "    <script>\n",
              "      const buttonEl =\n",
              "        document.querySelector('#df-9de01829-e6b4-4e25-af34-9d5ce47393db button.colab-df-convert');\n",
              "      buttonEl.style.display =\n",
              "        google.colab.kernel.accessAllowed ? 'block' : 'none';\n",
              "\n",
              "      async function convertToInteractive(key) {\n",
              "        const element = document.querySelector('#df-9de01829-e6b4-4e25-af34-9d5ce47393db');\n",
              "        const dataTable =\n",
              "          await google.colab.kernel.invokeFunction('convertToInteractive',\n",
              "                                                    [key], {});\n",
              "        if (!dataTable) return;\n",
              "\n",
              "        const docLinkHtml = 'Like what you see? Visit the ' +\n",
              "          '<a target=\"_blank\" href=https://colab.research.google.com/notebooks/data_table.ipynb>data table notebook</a>'\n",
              "          + ' to learn more about interactive tables.';\n",
              "        element.innerHTML = '';\n",
              "        dataTable['output_type'] = 'display_data';\n",
              "        await google.colab.output.renderOutput(dataTable, element);\n",
              "        const docLink = document.createElement('div');\n",
              "        docLink.innerHTML = docLinkHtml;\n",
              "        element.appendChild(docLink);\n",
              "      }\n",
              "    </script>\n",
              "  </div>\n",
              "\n",
              "\n",
              "    <div id=\"df-2ef52043-784e-4732-8bd4-1e84eb9de1c3\">\n",
              "      <button class=\"colab-df-quickchart\" onclick=\"quickchart('df-2ef52043-784e-4732-8bd4-1e84eb9de1c3')\"\n",
              "                title=\"Suggest charts\"\n",
              "                style=\"display:none;\">\n",
              "\n",
              "<svg xmlns=\"http://www.w3.org/2000/svg\" height=\"24px\"viewBox=\"0 0 24 24\"\n",
              "     width=\"24px\">\n",
              "    <g>\n",
              "        <path d=\"M19 3H5c-1.1 0-2 .9-2 2v14c0 1.1.9 2 2 2h14c1.1 0 2-.9 2-2V5c0-1.1-.9-2-2-2zM9 17H7v-7h2v7zm4 0h-2V7h2v10zm4 0h-2v-4h2v4z\"/>\n",
              "    </g>\n",
              "</svg>\n",
              "      </button>\n",
              "\n",
              "<style>\n",
              "  .colab-df-quickchart {\n",
              "      --bg-color: #E8F0FE;\n",
              "      --fill-color: #1967D2;\n",
              "      --hover-bg-color: #E2EBFA;\n",
              "      --hover-fill-color: #174EA6;\n",
              "      --disabled-fill-color: #AAA;\n",
              "      --disabled-bg-color: #DDD;\n",
              "  }\n",
              "\n",
              "  [theme=dark] .colab-df-quickchart {\n",
              "      --bg-color: #3B4455;\n",
              "      --fill-color: #D2E3FC;\n",
              "      --hover-bg-color: #434B5C;\n",
              "      --hover-fill-color: #FFFFFF;\n",
              "      --disabled-bg-color: #3B4455;\n",
              "      --disabled-fill-color: #666;\n",
              "  }\n",
              "\n",
              "  .colab-df-quickchart {\n",
              "    background-color: var(--bg-color);\n",
              "    border: none;\n",
              "    border-radius: 50%;\n",
              "    cursor: pointer;\n",
              "    display: none;\n",
              "    fill: var(--fill-color);\n",
              "    height: 32px;\n",
              "    padding: 0;\n",
              "    width: 32px;\n",
              "  }\n",
              "\n",
              "  .colab-df-quickchart:hover {\n",
              "    background-color: var(--hover-bg-color);\n",
              "    box-shadow: 0 1px 2px rgba(60, 64, 67, 0.3), 0 1px 3px 1px rgba(60, 64, 67, 0.15);\n",
              "    fill: var(--button-hover-fill-color);\n",
              "  }\n",
              "\n",
              "  .colab-df-quickchart-complete:disabled,\n",
              "  .colab-df-quickchart-complete:disabled:hover {\n",
              "    background-color: var(--disabled-bg-color);\n",
              "    fill: var(--disabled-fill-color);\n",
              "    box-shadow: none;\n",
              "  }\n",
              "\n",
              "  .colab-df-spinner {\n",
              "    border: 2px solid var(--fill-color);\n",
              "    border-color: transparent;\n",
              "    border-bottom-color: var(--fill-color);\n",
              "    animation:\n",
              "      spin 1s steps(1) infinite;\n",
              "  }\n",
              "\n",
              "  @keyframes spin {\n",
              "    0% {\n",
              "      border-color: transparent;\n",
              "      border-bottom-color: var(--fill-color);\n",
              "      border-left-color: var(--fill-color);\n",
              "    }\n",
              "    20% {\n",
              "      border-color: transparent;\n",
              "      border-left-color: var(--fill-color);\n",
              "      border-top-color: var(--fill-color);\n",
              "    }\n",
              "    30% {\n",
              "      border-color: transparent;\n",
              "      border-left-color: var(--fill-color);\n",
              "      border-top-color: var(--fill-color);\n",
              "      border-right-color: var(--fill-color);\n",
              "    }\n",
              "    40% {\n",
              "      border-color: transparent;\n",
              "      border-right-color: var(--fill-color);\n",
              "      border-top-color: var(--fill-color);\n",
              "    }\n",
              "    60% {\n",
              "      border-color: transparent;\n",
              "      border-right-color: var(--fill-color);\n",
              "    }\n",
              "    80% {\n",
              "      border-color: transparent;\n",
              "      border-right-color: var(--fill-color);\n",
              "      border-bottom-color: var(--fill-color);\n",
              "    }\n",
              "    90% {\n",
              "      border-color: transparent;\n",
              "      border-bottom-color: var(--fill-color);\n",
              "    }\n",
              "  }\n",
              "</style>\n",
              "\n",
              "      <script>\n",
              "        async function quickchart(key) {\n",
              "          const quickchartButtonEl =\n",
              "            document.querySelector('#' + key + ' button');\n",
              "          quickchartButtonEl.disabled = true;  // To prevent multiple clicks.\n",
              "          quickchartButtonEl.classList.add('colab-df-spinner');\n",
              "          try {\n",
              "            const charts = await google.colab.kernel.invokeFunction(\n",
              "                'suggestCharts', [key], {});\n",
              "          } catch (error) {\n",
              "            console.error('Error during call to suggestCharts:', error);\n",
              "          }\n",
              "          quickchartButtonEl.classList.remove('colab-df-spinner');\n",
              "          quickchartButtonEl.classList.add('colab-df-quickchart-complete');\n",
              "        }\n",
              "        (() => {\n",
              "          let quickchartButtonEl =\n",
              "            document.querySelector('#df-2ef52043-784e-4732-8bd4-1e84eb9de1c3 button');\n",
              "          quickchartButtonEl.style.display =\n",
              "            google.colab.kernel.accessAllowed ? 'block' : 'none';\n",
              "        })();\n",
              "      </script>\n",
              "    </div>\n",
              "\n",
              "    </div>\n",
              "  </div>\n"
            ],
            "application/vnd.google.colaboratory.intrinsic+json": {
              "type": "dataframe",
              "variable_name": "data",
              "summary": "{\n  \"name\": \"data\",\n  \"rows\": 14446,\n  \"fields\": [\n    {\n      \"column\": \"trans_date_trans_time\",\n      \"properties\": {\n        \"dtype\": \"date\",\n        \"min\": \"2019-01-01 00:00:00\",\n        \"max\": \"2020-12-31 23:59:00\",\n        \"num_unique_values\": 12126,\n        \"samples\": [\n          \"31-12-2020 11:51\",\n          \"13-01-2019 21:16\",\n          \"25-12-2020 11:52\"\n        ],\n        \"semantic_type\": \"\",\n        \"description\": \"\"\n      }\n    },\n    {\n      \"column\": \"merchant\",\n      \"properties\": {\n        \"dtype\": \"category\",\n        \"num_unique_values\": 693,\n        \"samples\": [\n          \"Sporer Inc\",\n          \"\\\"Lubowitz, Terry and Stracke\\\"\",\n          \"\\\"Bradtke, Torp and Bahringe\\\"\"\n        ],\n        \"semantic_type\": \"\",\n        \"description\": \"\"\n      }\n    },\n    {\n      \"column\": \"category\",\n      \"properties\": {\n        \"dtype\": \"category\",\n        \"num_unique_values\": 14,\n        \"samples\": [\n          \"entertainment\",\n          \"home\",\n          \"grocery_net\"\n        ],\n        \"semantic_type\": \"\",\n        \"description\": \"\"\n      }\n    },\n    {\n      \"column\": \"amt\",\n      \"properties\": {\n        \"dtype\": \"number\",\n        \"std\": 231.35258718833137,\n        \"min\": 1.0,\n        \"max\": 3261.47,\n        \"num_unique_values\": 9266,\n        \"samples\": [\n          3.31,\n          49.57,\n          116.56\n        ],\n        \"semantic_type\": \"\",\n        \"description\": \"\"\n      }\n    },\n    {\n      \"column\": \"city\",\n      \"properties\": {\n        \"dtype\": \"category\",\n        \"num_unique_values\": 176,\n        \"samples\": [\n          \"Saint Louis\",\n          \"Syracuse\",\n          \"Vancouver\"\n        ],\n        \"semantic_type\": \"\",\n        \"description\": \"\"\n      }\n    },\n    {\n      \"column\": \"state\",\n      \"properties\": {\n        \"dtype\": \"category\",\n        \"num_unique_values\": 13,\n        \"samples\": [\n          \"ID\",\n          \"WA\",\n          \"AK\"\n        ],\n        \"semantic_type\": \"\",\n        \"description\": \"\"\n      }\n    },\n    {\n      \"column\": \"lat\",\n      \"properties\": {\n        \"dtype\": \"number\",\n        \"std\": 5.317038926814483,\n        \"min\": 20.0271,\n        \"max\": 66.6933,\n        \"num_unique_values\": 183,\n        \"samples\": [\n          38.6171,\n          39.4584,\n          45.3099\n        ],\n        \"semantic_type\": \"\",\n        \"description\": \"\"\n      }\n    },\n    {\n      \"column\": \"long\",\n      \"properties\": {\n        \"dtype\": \"number\",\n        \"std\": 12.985812618179878,\n        \"min\": -165.6723,\n        \"max\": -89.6287,\n        \"num_unique_values\": 183,\n        \"samples\": [\n          -90.4504,\n          -106.3851,\n          -122.9685\n        ],\n        \"semantic_type\": \"\",\n        \"description\": \"\"\n      }\n    },\n    {\n      \"column\": \"city_pop\",\n      \"properties\": {\n        \"dtype\": \"number\",\n        \"std\": 290291,\n        \"min\": 46,\n        \"max\": 2383912,\n        \"num_unique_values\": 174,\n        \"samples\": [\n          6910,\n          6703,\n          260\n        ],\n        \"semantic_type\": \"\",\n        \"description\": \"\"\n      }\n    },\n    {\n      \"column\": \"job\",\n      \"properties\": {\n        \"dtype\": \"category\",\n        \"num_unique_values\": 163,\n        \"samples\": [\n          \"Planning and development surveyor\",\n          \"\\\"Nurse, children's\\\"\",\n          \"Chiropodist\"\n        ],\n        \"semantic_type\": \"\",\n        \"description\": \"\"\n      }\n    },\n    {\n      \"column\": \"dob\",\n      \"properties\": {\n        \"dtype\": \"date\",\n        \"min\": \"1927-09-09 00:00:00\",\n        \"max\": \"2001-07-26 00:00:00\",\n        \"num_unique_values\": 187,\n        \"samples\": [\n          \"30-09-1978\",\n          \"13-12-1956\",\n          \"13-07-1973\"\n        ],\n        \"semantic_type\": \"\",\n        \"description\": \"\"\n      }\n    },\n    {\n      \"column\": \"trans_num\",\n      \"properties\": {\n        \"dtype\": \"string\",\n        \"num_unique_values\": 14383,\n        \"samples\": [\n          \"2757d5e275cbd9c58ab5af80d4fa1a21\",\n          \"6bc2c77369a706483dc7fa7697a75f78\",\n          \"a1e867b221307c3543f30a3e68150120\"\n        ],\n        \"semantic_type\": \"\",\n        \"description\": \"\"\n      }\n    },\n    {\n      \"column\": \"merch_lat\",\n      \"properties\": {\n        \"dtype\": \"number\",\n        \"std\": 5.360593399991434,\n        \"min\": 19.032689,\n        \"max\": 67.510267,\n        \"num_unique_values\": 14376,\n        \"samples\": [\n          48.6678,\n          48.364484,\n          48.201024\n        ],\n        \"semantic_type\": \"\",\n        \"description\": \"\"\n      }\n    },\n    {\n      \"column\": \"merch_long\",\n      \"properties\": {\n        \"dtype\": \"number\",\n        \"std\": 12.995596210229966,\n        \"min\": -166.670685,\n        \"max\": -88.646366,\n        \"num_unique_values\": 14380,\n        \"samples\": [\n          -93.321336,\n          -103.672257,\n          -99.712615\n        ],\n        \"semantic_type\": \"\",\n        \"description\": \"\"\n      }\n    },\n    {\n      \"column\": \"is_fraud\",\n      \"properties\": {\n        \"dtype\": \"category\",\n        \"num_unique_values\": 4,\n        \"samples\": [\n          \"1\\\"2020-12-24 16:56:24\\\"\",\n          \"0\\\"2019-01-01 00:00:44\\\"\",\n          1\n        ],\n        \"semantic_type\": \"\",\n        \"description\": \"\"\n      }\n    }\n  ]\n}"
            }
          },
          "metadata": {},
          "execution_count": 18
        }
      ]
    },
    {
      "cell_type": "code",
      "source": [
        "data.shape"
      ],
      "metadata": {
        "colab": {
          "base_uri": "https://localhost:8080/"
        },
        "id": "LIup8KhkmdHr",
        "outputId": "3962c62b-1929-4982-a3f3-b1ef19124110"
      },
      "execution_count": 19,
      "outputs": [
        {
          "output_type": "execute_result",
          "data": {
            "text/plain": [
              "(14446, 15)"
            ]
          },
          "metadata": {},
          "execution_count": 19
        }
      ]
    },
    {
      "cell_type": "markdown",
      "source": [
        "Population Mean"
      ],
      "metadata": {
        "id": "3TpcvL42nN-2"
      }
    },
    {
      "cell_type": "code",
      "source": [
        "data_mean = data['amt'].mean()\n",
        "data_mean"
      ],
      "metadata": {
        "colab": {
          "base_uri": "https://localhost:8080/"
        },
        "id": "W1Fo2cfJmyfv",
        "outputId": "0f027084-9b7c-48f9-d331-db8eb8673c80"
      },
      "execution_count": 20,
      "outputs": [
        {
          "output_type": "execute_result",
          "data": {
            "text/plain": [
              "np.float64(124.43007337671327)"
            ]
          },
          "metadata": {},
          "execution_count": 20
        }
      ]
    },
    {
      "cell_type": "markdown",
      "source": [
        "Sample Mean"
      ],
      "metadata": {
        "id": "miVu53vynqXC"
      }
    },
    {
      "cell_type": "code",
      "source": [
        "sample_mean = data['amt'].sample(1000, random_state = 1).mean()\n",
        "sample_mean"
      ],
      "metadata": {
        "colab": {
          "base_uri": "https://localhost:8080/"
        },
        "id": "hahleRS2nZyN",
        "outputId": "11d7f5df-b5ff-4d03-ad1b-7bfa502791dd"
      },
      "execution_count": 21,
      "outputs": [
        {
          "output_type": "execute_result",
          "data": {
            "text/plain": [
              "np.float64(119.85632)"
            ]
          },
          "metadata": {},
          "execution_count": 21
        }
      ]
    },
    {
      "cell_type": "markdown",
      "source": [
        "Impact of sample size on sample mean - As the sample size increases, the sample mean become a better estimator of the population mean. This is one of the key Idea of central Limit Theorem."
      ],
      "metadata": {
        "id": "Q6raRpnJvnIt"
      }
    },
    {
      "cell_type": "code",
      "source": [
        "sample_sizes = [10,50,100,500,1000,5000,7000]\n",
        "sample_means = [data['amt'].sample(n=size, random_state=42).mean() for size in sample_sizes]\n",
        "sample_means\n",
        "for size, mean in zip(sample_sizes,sample_means):\n",
        "  print(f'Sample size: {size}, Sample mean: {mean:.2f}')"
      ],
      "metadata": {
        "colab": {
          "base_uri": "https://localhost:8080/"
        },
        "id": "8L03IXn8vgnG",
        "outputId": "021a2555-701b-4e3b-a173-2d0e0f0a01b1"
      },
      "execution_count": 22,
      "outputs": [
        {
          "output_type": "stream",
          "name": "stdout",
          "text": [
            "Sample size: 10, Sample mean: 96.85\n",
            "Sample size: 50, Sample mean: 88.35\n",
            "Sample size: 100, Sample mean: 81.84\n",
            "Sample size: 500, Sample mean: 112.07\n",
            "Sample size: 1000, Sample mean: 119.55\n",
            "Sample size: 5000, Sample mean: 124.00\n",
            "Sample size: 7000, Sample mean: 126.53\n"
          ]
        }
      ]
    },
    {
      "cell_type": "markdown",
      "source": [
        "Implement Central Limit theorem"
      ],
      "metadata": {
        "id": "SDwaAbvG6CzQ"
      }
    },
    {
      "cell_type": "markdown",
      "source": [
        "| Sample Size (`n`) | What happens to the histogram of sample means                                                              |\n",
        "| ----------------- | ---------------------------------------------------------------------------------------------------------- |\n",
        "| 30                | Histogram is **roughly bell-shaped**, but still shows some spread (more variability).                      |\n",
        "| 100               | Histogram becomes **more tightly clustered around the population mean**. Less spread, smoother curve.      |\n",
        "| 500               | Histogram is **very narrow**, almost perfectly normal. Sample means are very close to the population mean. |\n"
      ],
      "metadata": {
        "id": "DrFswiW0QVRB"
      }
    },
    {
      "cell_type": "code",
      "source": [
        "def visualize_clt(data, sample_size, no_of_samples):\n",
        "  sample_means = [np.mean(np.random.choice(data, size = sample_size)) for _ in range(no_of_samples)]\n",
        "  sns.histplot(sample_means, bins = 30, edgecolor = 'black')\n",
        "  plt.title('Central Limit Theorem')\n",
        "  plt.xlabel('Sample Mean')\n",
        "  plt.ylabel('Frequency')\n",
        "  plt.show()\n",
        "\n",
        "visualize_clt(data['amt'], 30, 1000)\n",
        "visualize_clt(data['amt'], 100, 1000)\n",
        "visualize_clt(data['amt'], 500, 1000)\n",
        "\n"
      ],
      "metadata": {
        "colab": {
          "base_uri": "https://localhost:8080/",
          "height": 1000
        },
        "id": "5Ng2NrDizSWz",
        "outputId": "0284ace9-b9b4-4631-8f80-83f734f8f4cd"
      },
      "execution_count": 23,
      "outputs": [
        {
          "output_type": "display_data",
          "data": {
            "text/plain": [
              "<Figure size 640x480 with 1 Axes>"
            ],
            "image/png": "[encoded data removed]"
          },
          "metadata": {}
        },
        {
          "output_type": "display_data",
          "data": {
            "text/plain": [
              "<Figure size 640x480 with 1 Axes>"
            ],
            "image/png": "[encoded data removed]"
          },
          "metadata": {}
        },
        {
          "output_type": "display_data",
          "data": {
            "text/plain": [
              "<Figure size 640x480 with 1 Axes>"
            ],
            "image/png": "[encoded data removed]"
          },
          "metadata": {}
        }
      ]
    },
    {
      "cell_type": "markdown",
      "source": [
        "Ques - Difference between sample mean vs sampling distribution mean\n",
        "1. Sample Mean - The average of data points in a single sample. It varies from sample to sample and estimates the population mean.\n",
        "2. Sampling Distribution Mean - The average of all possible sample means of the same size. It approximates the population mean according to the Central Limit Theorem."
      ],
      "metadata": {
        "id": "S5V435OpQhz8"
      }
    },
    {
      "cell_type": "markdown",
      "source": [
        "Sampling Distribution Mean"
      ],
      "metadata": {
        "id": "Nd3E6kL8SEuk"
      }
    },
    {
      "cell_type": "code",
      "source": [
        "sample_means_all = [np.mean(np.random.choice(data['amt'], size = 100)) for _ in range(1000)]\n",
        "sample_means_all\n",
        "sampling_distribution_mean = np.mean(sample_means_all)\n",
        "sampling_distribution_mean"
      ],
      "metadata": {
        "colab": {
          "base_uri": "https://localhost:8080/"
        },
        "id": "a41EpJXIPuCm",
        "outputId": "c5b77fe6-f883-4fac-a3de-0a9d62ac2a4e"
      },
      "execution_count": 24,
      "outputs": [
        {
          "output_type": "execute_result",
          "data": {
            "text/plain": [
              "np.float64(124.4079793)"
            ]
          },
          "metadata": {},
          "execution_count": 24
        }
      ]
    },
    {
      "cell_type": "markdown",
      "source": [
        "Population mean = 124.43, mean of all sample means = 124.69 ≈ population mean, showing CLT in action."
      ],
      "metadata": {
        "id": "Y-SR9ccMTX85"
      }
    },
    {
      "cell_type": "markdown",
      "source": [
        "Population standard deviation"
      ],
      "metadata": {
        "id": "a24px-27NNt4"
      }
    },
    {
      "cell_type": "code",
      "source": [
        "population_std = data['amt'].std()\n",
        "sample_sizes = [10,50,100,500,1000]\n",
        "standard_errors = [population_std/np.sqrt(sample_size) for sample_size in sample_sizes]\n",
        "plt.figure(figsize =(10,6))\n",
        "plt.plot(sample_sizes, standard_errors, marker = 'o', linestyle ='--',color = 'red')\n",
        "plt.title('Standard Error vs Sample Size')\n",
        "plt.xlabel('Sample Size')\n",
        "plt.ylabel('Standard Error')\n"
      ],
      "metadata": {
        "id": "77HzwlPLTa9D",
        "colab": {
          "base_uri": "https://localhost:8080/",
          "height": 582
        },
        "outputId": "fe4d7565-c949-4444-ab29-43e83620d8df"
      },
      "execution_count": 25,
      "outputs": [
        {
          "output_type": "execute_result",
          "data": {
            "text/plain": [
              "Text(0, 0.5, 'Standard Error')"
            ]
          },
          "metadata": {},
          "execution_count": 25
        },
        {
          "output_type": "display_data",
          "data": {
            "text/plain": [
              "<Figure size 1000x600 with 1 Axes>"
            ],
            "image/png": "[encoded data removed]"
          },
          "metadata": {}
        }
      ]
    },
    {
      "cell_type": "markdown",
      "source": [
        "Standard Error (SE) measures the spread of sample means around the population mean.\n",
        "As sample size (n) increases, SE decreases, meaning the sample mean is closer to the true population mean.\n",
        "Larger samples → more accurate and reliable estimates of the population mean."
      ],
      "metadata": {
        "id": "KTypj-dPPI8Q"
      }
    },
    {
      "cell_type": "code",
      "source": [
        "\n"
      ],
      "metadata": {
        "id": "GcmdusR4N7GY"
      },
      "execution_count": 25,
      "outputs": []
    }
  ]
}